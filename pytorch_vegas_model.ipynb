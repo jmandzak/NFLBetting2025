{
 "cells": [
  {
   "cell_type": "code",
   "execution_count": 24,
   "id": "46a6f745",
   "metadata": {},
   "outputs": [],
   "source": [
    "import polars as pl"
   ]
  },
  {
   "cell_type": "code",
   "execution_count": 25,
   "id": "cc29cd32",
   "metadata": {},
   "outputs": [],
   "source": [
    "data = pl.read_csv(\"data/aus_sports_betting.csv\")"
   ]
  },
  {
   "cell_type": "code",
   "execution_count": 26,
   "id": "3b535e89",
   "metadata": {},
   "outputs": [
    {
     "data": {
      "text/html": [
       "<div><style>\n",
       ".dataframe > thead > tr,\n",
       ".dataframe > tbody > tr {\n",
       "  text-align: right;\n",
       "  white-space: pre-wrap;\n",
       "}\n",
       "</style>\n",
       "<small>shape: (3_010, 39)</small><table border=\"1\" class=\"dataframe\"><thead><tr><th>Playoff Game?</th><th>Neutral Venue?</th><th>Home Odds Open</th><th>Home Odds Min</th><th>Home Odds Max</th><th>Home Odds Close</th><th>Away Odds Open</th><th>Away Odds Min</th><th>Away Odds Max</th><th>Away Odds Close</th><th>Home Line Open</th><th>Home Line Min</th><th>Home Line Max</th><th>Home Line Close</th><th>Away Line Open</th><th>Away Line Min</th><th>Away Line Max</th><th>Away Line Close</th><th>Home Line Odds Open</th><th>Home Line Odds Min</th><th>Home Line Odds Max</th><th>Home Line Odds Close</th><th>Away Line Odds Open</th><th>Away Line Odds Min</th><th>Away Line Odds Max</th><th>Away Line Odds Close</th><th>Total Score Open</th><th>Total Score Min</th><th>Total Score Max</th><th>Total Score Close</th><th>Total Score Over Open</th><th>Total Score Over Min</th><th>Total Score Over Max</th><th>Total Score Over Close</th><th>Total Score Under Open</th><th>Total Score Under Min</th><th>Total Score Under Max</th><th>Total Score Under Close</th><th>Home Team Win</th></tr><tr><td>i8</td><td>i8</td><td>f64</td><td>f64</td><td>f64</td><td>f64</td><td>f64</td><td>f64</td><td>f64</td><td>f64</td><td>f64</td><td>f64</td><td>f64</td><td>f64</td><td>f64</td><td>f64</td><td>f64</td><td>f64</td><td>f64</td><td>f64</td><td>f64</td><td>f64</td><td>f64</td><td>f64</td><td>f64</td><td>f64</td><td>f64</td><td>f64</td><td>f64</td><td>f64</td><td>f64</td><td>f64</td><td>f64</td><td>f64</td><td>f64</td><td>f64</td><td>f64</td><td>f64</td><td>i8</td></tr></thead><tbody><tr><td>1</td><td>1</td><td>2.1</td><td>2.0</td><td>2.15</td><td>2.0</td><td>1.77</td><td>1.73</td><td>1.83</td><td>1.83</td><td>2.0</td><td>1.0</td><td>2.0</td><td>1.0</td><td>-2.0</td><td>-2.0</td><td>-1.0</td><td>-1.0</td><td>1.91</td><td>1.87</td><td>1.91</td><td>1.91</td><td>1.91</td><td>1.91</td><td>1.91</td><td>1.91</td><td>49.5</td><td>48.5</td><td>49.5</td><td>48.5</td><td>1.91</td><td>1.87</td><td>1.91</td><td>1.91</td><td>1.91</td><td>1.87</td><td>1.91</td><td>1.91</td><td>1</td></tr><tr><td>1</td><td>0</td><td>1.8</td><td>1.73</td><td>1.87</td><td>1.87</td><td>2.05</td><td>1.95</td><td>2.1</td><td>1.95</td><td>-1.5</td><td>-2.0</td><td>-1.0</td><td>-1.0</td><td>1.5</td><td>1.0</td><td>2.0</td><td>1.0</td><td>1.91</td><td>1.87</td><td>1.91</td><td>1.91</td><td>1.91</td><td>1.91</td><td>1.91</td><td>1.91</td><td>48.5</td><td>47.5</td><td>49.5</td><td>49.5</td><td>1.91</td><td>1.91</td><td>1.91</td><td>1.91</td><td>1.91</td><td>1.91</td><td>1.91</td><td>1.91</td><td>1</td></tr><tr><td>1</td><td>0</td><td>1.4</td><td>1.31</td><td>1.45</td><td>1.34</td><td>3.05</td><td>2.8</td><td>3.4</td><td>3.35</td><td>-5.5</td><td>-6.0</td><td>-4.5</td><td>-6.0</td><td>5.5</td><td>4.5</td><td>6.0</td><td>6.0</td><td>1.91</td><td>1.87</td><td>1.91</td><td>1.91</td><td>1.91</td><td>1.91</td><td>1.91</td><td>1.91</td><td>48.0</td><td>46.5</td><td>48.0</td><td>47.0</td><td>1.91</td><td>1.91</td><td>1.91</td><td>1.91</td><td>1.91</td><td>1.91</td><td>1.91</td><td>1.91</td><td>1</td></tr><tr><td>1</td><td>0</td><td>1.87</td><td>1.83</td><td>2.05</td><td>2.05</td><td>1.95</td><td>1.8</td><td>1.95</td><td>1.8</td><td>-1.0</td><td>-1.0</td><td>1.5</td><td>1.5</td><td>1.0</td><td>-1.5</td><td>1.0</td><td>-1.5</td><td>1.91</td><td>1.91</td><td>1.91</td><td>1.91</td><td>1.91</td><td>1.91</td><td>1.91</td><td>1.91</td><td>51.5</td><td>51.5</td><td>52.0</td><td>52.0</td><td>1.91</td><td>1.87</td><td>1.91</td><td>1.91</td><td>1.91</td><td>1.87</td><td>1.91</td><td>1.91</td><td>1</td></tr><tr><td>1</td><td>0</td><td>1.36</td><td>1.29</td><td>1.38</td><td>1.29</td><td>3.25</td><td>3.1</td><td>3.7</td><td>3.7</td><td>-6.0</td><td>-7.0</td><td>-5.5</td><td>-7.0</td><td>6.0</td><td>5.5</td><td>7.0</td><td>7.0</td><td>2.0</td><td>1.91</td><td>1.87</td><td>1.91</td><td>1.83</td><td>1.95</td><td>1.91</td><td>1.91</td><td>43.5</td><td>42.0</td><td>44.0</td><td>43.5</td><td>1.91</td><td>1.87</td><td>1.91</td><td>1.91</td><td>1.91</td><td>1.87</td><td>1.91</td><td>1.91</td><td>1</td></tr><tr><td>&hellip;</td><td>&hellip;</td><td>&hellip;</td><td>&hellip;</td><td>&hellip;</td><td>&hellip;</td><td>&hellip;</td><td>&hellip;</td><td>&hellip;</td><td>&hellip;</td><td>&hellip;</td><td>&hellip;</td><td>&hellip;</td><td>&hellip;</td><td>&hellip;</td><td>&hellip;</td><td>&hellip;</td><td>&hellip;</td><td>&hellip;</td><td>&hellip;</td><td>&hellip;</td><td>&hellip;</td><td>&hellip;</td><td>&hellip;</td><td>&hellip;</td><td>&hellip;</td><td>&hellip;</td><td>&hellip;</td><td>&hellip;</td><td>&hellip;</td><td>&hellip;</td><td>&hellip;</td><td>&hellip;</td><td>&hellip;</td><td>&hellip;</td><td>&hellip;</td><td>&hellip;</td><td>&hellip;</td><td>&hellip;</td></tr><tr><td>0</td><td>0</td><td>1.43</td><td>1.34</td><td>1.43</td><td>1.36</td><td>3.1</td><td>3.05</td><td>3.56</td><td>3.46</td><td>-5.0</td><td>-6.5</td><td>-5.0</td><td>-6.5</td><td>5.0</td><td>5.0</td><td>6.5</td><td>6.5</td><td>1.95</td><td>1.91</td><td>1.97</td><td>1.93</td><td>1.95</td><td>1.93</td><td>2.0</td><td>1.98</td><td>39.5</td><td>39.5</td><td>41.0</td><td>41.0</td><td>1.92</td><td>1.92</td><td>1.98</td><td>1.95</td><td>1.99</td><td>1.99</td><td>2.0</td><td>1.95</td><td>1</td></tr><tr><td>0</td><td>0</td><td>1.2</td><td>1.18</td><td>1.21</td><td>1.19</td><td>5.23</td><td>5.08</td><td>5.54</td><td>5.35</td><td>-10.0</td><td>-10.5</td><td>-10.0</td><td>-10.0</td><td>10.0</td><td>10.0</td><td>10.5</td><td>10.0</td><td>1.91</td><td>1.93</td><td>2.02</td><td>2.02</td><td>2.0</td><td>1.88</td><td>1.98</td><td>1.88</td><td>53.0</td><td>48.5</td><td>53.0</td><td>49.0</td><td>1.95</td><td>1.91</td><td>1.99</td><td>1.91</td><td>1.95</td><td>2.0</td><td>1.95</td><td>2.0</td><td>1</td></tr><tr><td>0</td><td>0</td><td>1.37</td><td>1.32</td><td>1.42</td><td>1.41</td><td>3.39</td><td>3.14</td><td>3.73</td><td>3.16</td><td>-6.0</td><td>-7.0</td><td>-5.5</td><td>-5.5</td><td>6.0</td><td>5.5</td><td>7.0</td><td>5.5</td><td>1.92</td><td>1.97</td><td>1.95</td><td>1.93</td><td>1.99</td><td>1.95</td><td>1.93</td><td>1.97</td><td>40.0</td><td>40.0</td><td>41.5</td><td>41.5</td><td>1.85</td><td>1.85</td><td>1.97</td><td>1.94</td><td>2.06</td><td>2.06</td><td>2.0</td><td>1.96</td><td>1</td></tr><tr><td>0</td><td>0</td><td>1.5</td><td>1.5</td><td>1.73</td><td>1.65</td><td>2.81</td><td>2.24</td><td>2.81</td><td>2.4</td><td>-4.0</td><td>-4.0</td><td>-2.5</td><td>-3.0</td><td>4.0</td><td>2.5</td><td>4.0</td><td>3.0</td><td>1.95</td><td>1.95</td><td>1.88</td><td>2.02</td><td>1.95</td><td>2.02</td><td>1.95</td><td>1.88</td><td>44.0</td><td>42.5</td><td>44.0</td><td>43.5</td><td>1.95</td><td>1.88</td><td>1.95</td><td>1.88</td><td>1.95</td><td>1.98</td><td>1.95</td><td>2.03</td><td>0</td></tr><tr><td>0</td><td>0</td><td>1.45</td><td>1.38</td><td>1.47</td><td>1.43</td><td>2.99</td><td>2.91</td><td>3.32</td><td>3.05</td><td>-5.0</td><td>-6.0</td><td>-4.5</td><td>-4.5</td><td>5.0</td><td>4.5</td><td>6.0</td><td>4.5</td><td>1.97</td><td>1.93</td><td>2.0</td><td>1.93</td><td>1.93</td><td>1.91</td><td>1.98</td><td>1.98</td><td>46.0</td><td>46.0</td><td>47.0</td><td>46.5</td><td>1.95</td><td>1.83</td><td>2.0</td><td>1.98</td><td>1.95</td><td>1.95</td><td>2.0</td><td>1.93</td><td>1</td></tr></tbody></table></div>"
      ],
      "text/plain": [
       "shape: (3_010, 39)\n",
       "┌─────────┬─────────┬──────┬───────────┬───┬───────────────┬───────────────┬───────┬───────────────┐\n",
       "│ Playoff ┆ Neutral ┆ Home ┆ Home Odds ┆ … ┆ Total Score   ┆ Total Score   ┆ Total ┆ Home Team Win │\n",
       "│ Game?   ┆ Venue?  ┆ Odds ┆ Min       ┆   ┆ Under Min     ┆ Under Max     ┆ Score ┆ ---           │\n",
       "│ ---     ┆ ---     ┆ Open ┆ ---       ┆   ┆ ---           ┆ ---           ┆ Under ┆ i8            │\n",
       "│ i8      ┆ i8      ┆ ---  ┆ f64       ┆   ┆ f64           ┆ f64           ┆ Close ┆               │\n",
       "│         ┆         ┆ f64  ┆           ┆   ┆               ┆               ┆ ---   ┆               │\n",
       "│         ┆         ┆      ┆           ┆   ┆               ┆               ┆ f64   ┆               │\n",
       "╞═════════╪═════════╪══════╪═══════════╪═══╪═══════════════╪═══════════════╪═══════╪═══════════════╡\n",
       "│ 1       ┆ 1       ┆ 2.1  ┆ 2.0       ┆ … ┆ 1.87          ┆ 1.91          ┆ 1.91  ┆ 1             │\n",
       "│ 1       ┆ 0       ┆ 1.8  ┆ 1.73      ┆ … ┆ 1.91          ┆ 1.91          ┆ 1.91  ┆ 1             │\n",
       "│ 1       ┆ 0       ┆ 1.4  ┆ 1.31      ┆ … ┆ 1.91          ┆ 1.91          ┆ 1.91  ┆ 1             │\n",
       "│ 1       ┆ 0       ┆ 1.87 ┆ 1.83      ┆ … ┆ 1.87          ┆ 1.91          ┆ 1.91  ┆ 1             │\n",
       "│ 1       ┆ 0       ┆ 1.36 ┆ 1.29      ┆ … ┆ 1.87          ┆ 1.91          ┆ 1.91  ┆ 1             │\n",
       "│ …       ┆ …       ┆ …    ┆ …         ┆ … ┆ …             ┆ …             ┆ …     ┆ …             │\n",
       "│ 0       ┆ 0       ┆ 1.43 ┆ 1.34      ┆ … ┆ 1.99          ┆ 2.0           ┆ 1.95  ┆ 1             │\n",
       "│ 0       ┆ 0       ┆ 1.2  ┆ 1.18      ┆ … ┆ 2.0           ┆ 1.95          ┆ 2.0   ┆ 1             │\n",
       "│ 0       ┆ 0       ┆ 1.37 ┆ 1.32      ┆ … ┆ 2.06          ┆ 2.0           ┆ 1.96  ┆ 1             │\n",
       "│ 0       ┆ 0       ┆ 1.5  ┆ 1.5       ┆ … ┆ 1.98          ┆ 1.95          ┆ 2.03  ┆ 0             │\n",
       "│ 0       ┆ 0       ┆ 1.45 ┆ 1.38      ┆ … ┆ 1.95          ┆ 2.0           ┆ 1.93  ┆ 1             │\n",
       "└─────────┴─────────┴──────┴───────────┴───┴───────────────┴───────────────┴───────┴───────────────┘"
      ]
     },
     "execution_count": 26,
     "metadata": {},
     "output_type": "execute_result"
    }
   ],
   "source": [
    "# clean data\n",
    "\n",
    "# Drop unimportant columns\n",
    "# These need to be wrapped in try-catch in case the cell is rerun\n",
    "try:\n",
    "    data = data.drop([\"Date\", \"Notes\"])\n",
    "except pl.exceptions.ColumnNotFoundError:\n",
    "    pass\n",
    "\n",
    "# replace all \"Y\" strings with 1\n",
    "data = data.with_columns([\n",
    "    pl.when(pl.col(col) == \"Y\").then(1).otherwise(pl.col(col)).alias(col)\n",
    "    for col in data.columns if data[col].dtype == pl.Utf8\n",
    "])\n",
    "data = data.with_columns([\n",
    "    pl.col(col).fill_null(0).alias(col) for col in data.columns if data[col].dtype == pl.Utf8\n",
    "])\n",
    "# drop rows with null values, as null values here means missing important data\n",
    "data = data.drop_nulls()\n",
    "\n",
    "# convert Overtime? Playoff Game? and Neutral Venue? to boolean values\n",
    "data = data.with_columns([\n",
    "    pl.col(col).cast(pl.Int8).alias(col) for col in [\"Overtime?\", \"Playoff Game?\", \"Neutral Venue?\"]\n",
    "])\n",
    "\n",
    "data = data.drop([\"Home Team\", \"Away Team\"])\n",
    "\n",
    "TARGET = \"Home Team Win\"\n",
    "# Add a Home Team Win column that is either 1 or 0 based on if Home Score is greater than Away Score\n",
    "data = data.with_columns(\n",
    "    (pl.col(\"Home Score\") > pl.col(\"Away Score\")).cast(pl.Int8).alias(TARGET)\n",
    ")\n",
    "# # Add a column called Over Hit that is 1 if Home Score + Away Score > Total Score Close\n",
    "# data = data.with_columns(\n",
    "#     (pl.col(\"Home Score\") + pl.col(\"Away Score\") > pl.col(\"Total Score Close\")).cast(pl.Int8).alias(\"Over Hit\")\n",
    "# )\n",
    "# # Add a column called Home Team Cover that is 1 if Home Score - Away Score > Home Spread Close\n",
    "# data = data.with_columns(\n",
    "#     (pl.col(\"Away Score\") - pl.col(\"Home Score\") < pl.col(\"Home Line Close\")).cast(pl.Int8).alias(\"Home Team Cover\")\n",
    "# )\n",
    "# # Add a column called Away Team Cover that is 1 if Away Score - Home Score > Away Spread Close\n",
    "# data = data.with_columns(\n",
    "#     (pl.col(\"Home Score\") - pl.col(\"Away Score\") < pl.col(\"Away Line Close\")).cast(pl.Int8).alias(\"Away Team Cover\")\n",
    "# )\n",
    "\n",
    "# drop things only known after the game, like Home Score, Away Score, and Overtime?\n",
    "data = data.drop([\"Home Score\", \"Away Score\", \"Overtime?\"])\n",
    "\n",
    "data"
   ]
  },
  {
   "cell_type": "code",
   "execution_count": null,
   "id": "72f4a8fa",
   "metadata": {},
   "outputs": [],
   "source": []
  },
  {
   "cell_type": "code",
   "execution_count": 27,
   "id": "e6782d9d",
   "metadata": {},
   "outputs": [
    {
     "data": {
      "text/plain": [
       "device(type='cuda')"
      ]
     },
     "execution_count": 27,
     "metadata": {},
     "output_type": "execute_result"
    }
   ],
   "source": [
    "import torch\n",
    "import torch.nn as nn\n",
    "\n",
    "torch.manual_seed(42)\n",
    "device = torch.device(\"cuda\" if torch.cuda.is_available() else \"cpu\")\n",
    "device"
   ]
  },
  {
   "cell_type": "code",
   "execution_count": 28,
   "id": "63cef44d",
   "metadata": {},
   "outputs": [],
   "source": [
    "class SportsBettingModel(nn.Module):\n",
    "    def __init__(self, num_features: int) -> None:\n",
    "        super(SportsBettingModel, self).__init__()\n",
    "        self.fc1 = nn.Linear(num_features, 64)\n",
    "        self.fc2 = nn.Linear(64, 32)\n",
    "        self.fc3 = nn.Linear(32, 1)\n",
    "        # self.fc4 = nn.Linear(16, 1)\n",
    "        self.relu = nn.LeakyReLU()\n",
    "        self.sigmoid = nn.Sigmoid()\n",
    "        self.dropout = nn.Dropout(0.2)\n",
    "\n",
    "    def forward(self, x: torch.Tensor) -> torch.Tensor:\n",
    "        x = self.fc1(x)\n",
    "        x = self.relu(x)\n",
    "        x = self.dropout(x)\n",
    "        x = self.fc2(x)\n",
    "        x = self.relu(x)\n",
    "        x = self.dropout(x)\n",
    "        x = self.fc3(x)\n",
    "        # x = self.relu(x)\n",
    "        # x = self.dropout(x)\n",
    "        # x = self.fc4(x)\n",
    "        return self.sigmoid(x)"
   ]
  },
  {
   "cell_type": "code",
   "execution_count": 29,
   "id": "dab45b43",
   "metadata": {},
   "outputs": [
    {
     "name": "stdout",
     "output_type": "stream",
     "text": [
      "X_train shape: torch.Size([2107, 38]), y_train shape: torch.Size([2107, 1])\n",
      "X_test shape: torch.Size([452, 38]), y_test shape: torch.Size([452, 1])\n"
     ]
    },
    {
     "data": {
      "text/plain": [
       "SportsBettingModel(\n",
       "  (fc1): Linear(in_features=38, out_features=64, bias=True)\n",
       "  (fc2): Linear(in_features=64, out_features=32, bias=True)\n",
       "  (fc3): Linear(in_features=32, out_features=1, bias=True)\n",
       "  (relu): LeakyReLU(negative_slope=0.01)\n",
       "  (sigmoid): Sigmoid()\n",
       "  (dropout): Dropout(p=0.2, inplace=False)\n",
       ")"
      ]
     },
     "execution_count": 29,
     "metadata": {},
     "output_type": "execute_result"
    }
   ],
   "source": [
    "from sklearn.model_selection import train_test_split\n",
    "\n",
    "# Let's try building a model to predict a target value\n",
    "features = data.drop(TARGET).to_numpy()\n",
    "labels = data.select(pl.col(TARGET)).to_numpy()\n",
    "\n",
    "features = torch.tensor(features, dtype=torch.float32)\n",
    "labels = torch.tensor(labels, dtype=torch.float32)\n",
    "X_train, X_test, y_train, y_test = train_test_split(features, labels, test_size=0.3, random_state=42, stratify=labels)\n",
    "X_val, X_test, y_val, y_test = train_test_split(X_test, y_test, test_size=0.5, random_state=42, stratify=y_test)\n",
    "\n",
    "X_train = X_train.to(device)\n",
    "X_val = X_val.to(device)\n",
    "X_test = X_test.to(device)\n",
    "y_train = y_train.to(device)\n",
    "y_val = y_val.to(device)\n",
    "y_test = y_test.to(device)\n",
    "print(f\"X_train shape: {X_train.shape}, y_train shape: {y_train.shape}\")\n",
    "print(f\"X_test shape: {X_test.shape}, y_test shape: {y_test.shape}\")\n",
    "model = SportsBettingModel(num_features=X_train.shape[1]).to(device)\n",
    "criterion = nn.BCELoss()\n",
    "optimizer = torch.optim.Adam(model.parameters(), lr=0.001)\n",
    "\n",
    "model"
   ]
  },
  {
   "cell_type": "code",
   "execution_count": 30,
   "id": "186ad1b5",
   "metadata": {},
   "outputs": [],
   "source": [
    "import typing\n",
    "\n",
    "def train_model(model: nn.Module, epochs: int = 1000) -> typing.Tuple[typing.List[float], typing.List[float]]:\n",
    "    training_loss = []\n",
    "    validation_loss = []\n",
    "    min_val_loss = 1_000_000\n",
    "    consecutive_epochs_without_new_min_val_loss = 0\n",
    "    for epoch in range(epochs):\n",
    "        if consecutive_epochs_without_new_min_val_loss >= 25:\n",
    "             return training_loss, validation_loss\n",
    "        model.train()\n",
    "        optimizer.zero_grad()\n",
    "        outputs = model(X_train)\n",
    "        loss = criterion(outputs, y_train)\n",
    "        training_loss.append(loss.item())\n",
    "        loss.backward()\n",
    "        optimizer.step()\n",
    "        with torch.no_grad():\n",
    "            model.eval()\n",
    "            val_outputs = model(X_val)\n",
    "            val_loss = criterion(val_outputs, y_val)\n",
    "            if val_loss.item() < min_val_loss:\n",
    "                min_val_loss = val_loss.item()\n",
    "                consecutive_epochs_without_new_min_val_loss = 0\n",
    "            else:\n",
    "                consecutive_epochs_without_new_min_val_loss += 1\n",
    "                 \n",
    "            validation_loss.append(val_loss.item())\n",
    "        if epoch % 10 == 0:\n",
    "                print(f\"Epoch [{epoch}/{epochs}], Loss: {loss.item():.4f}, Val Loss: {val_loss.item():.4f}\")\n",
    "\n",
    "    return training_loss, validation_loss"
   ]
  },
  {
   "cell_type": "code",
   "execution_count": 31,
   "id": "c4061ed6",
   "metadata": {},
   "outputs": [],
   "source": [
    "import typing\n",
    "import matplotlib.pyplot as plt\n",
    "\n",
    "\n",
    "def plot_losses(train_loss: typing.List[float], val_loss: typing.List[float]) -> None:\n",
    "    plt.plot(train_loss, label=\"Train Loss\")\n",
    "    plt.plot(val_loss, label=\"Validation Loss\")\n",
    "    plt.xlabel(\"Epoch\")\n",
    "    plt.ylabel(\"Loss\")\n",
    "    plt.legend()\n",
    "    plt.show()"
   ]
  },
  {
   "cell_type": "code",
   "execution_count": 32,
   "id": "8b359857",
   "metadata": {},
   "outputs": [
    {
     "name": "stdout",
     "output_type": "stream",
     "text": [
      "Epoch [0/1000], Loss: 0.9830, Val Loss: 0.7290\n",
      "Epoch [10/1000], Loss: 0.6993, Val Loss: 0.6415\n",
      "Epoch [20/1000], Loss: 0.6830, Val Loss: 0.6279\n",
      "Epoch [30/1000], Loss: 0.6416, Val Loss: 0.6295\n",
      "Epoch [40/1000], Loss: 0.6363, Val Loss: 0.6204\n",
      "Epoch [50/1000], Loss: 0.6207, Val Loss: 0.6195\n",
      "Epoch [60/1000], Loss: 0.6224, Val Loss: 0.6195\n",
      "Epoch [70/1000], Loss: 0.6190, Val Loss: 0.6191\n",
      "Epoch [80/1000], Loss: 0.6183, Val Loss: 0.6193\n"
     ]
    },
    {
     "data": {
      "image/png": "[encoded data removed]",
      "text/plain": [
       "<Figure size 640x480 with 1 Axes>"
      ]
     },
     "metadata": {},
     "output_type": "display_data"
    }
   ],
   "source": [
    "train_loss, val_loss = train_model(model, epochs=1000)\n",
    "plot_losses(train_loss, val_loss)"
   ]
  },
  {
   "cell_type": "code",
   "execution_count": 33,
   "id": "f2dcc749",
   "metadata": {},
   "outputs": [
    {
     "name": "stdout",
     "output_type": "stream",
     "text": [
      "Test Accuracy: 0.6283\n"
     ]
    }
   ],
   "source": [
    "# test the model\n",
    "def test_model(model: nn.Module, X_test: torch.Tensor, y_test: torch.Tensor) -> float:\n",
    "    model.eval()\n",
    "    with torch.no_grad():\n",
    "        outputs = model(X_test)\n",
    "        predicted = (outputs > 0.5).float()\n",
    "        accuracy = (predicted == y_test).float().mean().item()\n",
    "    return accuracy\n",
    "\n",
    "accuracy = test_model(model, X_test, y_test)\n",
    "print(f\"Test Accuracy: {accuracy:.4f}\")"
   ]
  },
  {
   "cell_type": "code",
   "execution_count": 34,
   "id": "a592064a",
   "metadata": {},
   "outputs": [],
   "source": [
    "def always_take_favorite(X_test) -> torch.Tensor:\n",
    "    \"\"\"\n",
    "    A simple baseline model that always predicts the favorite team to win.\n",
    "    This is a naive approach and should be used for comparison purposes only.\n",
    "    \"\"\"\n",
    "    # Assuming the fifth column is the Home Team's odds, we predict 1 if Home Team's odds are lower (favorite)\n",
    "    return (X_test[:, 5] < X_test[:, 9]).float().to(device)"
   ]
  },
  {
   "cell_type": "code",
   "execution_count": 35,
   "id": "06acbf90",
   "metadata": {},
   "outputs": [
    {
     "name": "stdout",
     "output_type": "stream",
     "text": [
      "Always Take Favorite Train Accuracy: 0.6720\n",
      "Always Take Favorite Validation Accuracy: 0.6630\n",
      "Always Take Favorite Test Accuracy: 0.6261\n"
     ]
    }
   ],
   "source": [
    "train_favorite_predictions = always_take_favorite(X_train)\n",
    "val_favorite_predictions = always_take_favorite(X_val)\n",
    "test_favorite_predictions = always_take_favorite(X_test)\n",
    "train_favorite_accuracy = (train_favorite_predictions.cpu().numpy().flatten() == y_train.cpu().numpy().flatten()).mean()\n",
    "val_favorite_accuracy = (val_favorite_predictions.cpu().numpy().flatten() == y_val.cpu().numpy().flatten()).mean()\n",
    "test_favorite_accuracy = (test_favorite_predictions.cpu().numpy().flatten() == y_test.cpu().numpy().flatten()).mean()\n",
    "print(f\"Always Take Favorite Train Accuracy: {train_favorite_accuracy:.4f}\")\n",
    "print(f\"Always Take Favorite Validation Accuracy: {val_favorite_accuracy:.4f}\")\n",
    "print(f\"Always Take Favorite Test Accuracy: {test_favorite_accuracy:.4f}\")"
   ]
  },
  {
   "cell_type": "markdown",
   "id": "7aa77725",
   "metadata": {},
   "source": [
    "Looks like Vegas knows best after all. At least, there doesn't seem to be discernible patterns from Vegas lines alone that indicate patterns of when they're wrong. Let's see if we can instead build a model to predict when Vegas is correct"
   ]
  },
  {
   "cell_type": "code",
   "execution_count": 36,
   "id": "9c443fdc",
   "metadata": {},
   "outputs": [],
   "source": [
    "# add a Vegas Correct column where it is 1 if Home Spread Close is negative and Home Team Win is 1\n",
    "# data = data.with_columns(\n",
    "#     (\n",
    "#         (pl.col(\"Home Line Close\") < 0) & (pl.col(\"Home Team Win\") == 1) | (pl.col(\"Home Line Close\") > 0) & (pl.col(\"Home Team Win\") == 0)\n",
    "#     ).cast(pl.Int8).alias(\"Vegas Correct\")\n",
    "# )\n",
    "data = data.with_columns(\n",
    "    (\n",
    "        (pl.col(\"Home Odds Close\") < pl.col(\"Away Odds Close\")) & (pl.col(\"Home Team Win\") == 1) |\n",
    "        (pl.col(\"Home Odds Close\") > pl.col(\"Away Odds Close\")) & (pl.col(\"Home Team Win\") == 0)\n",
    "    ).alias(\"Vegas Correct\").cast(pl.Int8)\n",
    ")\n",
    "# # count how many 1s and 0s are in Vegas Correct\n",
    "# vegas_correct_counts = data.select(\n",
    "#     pl.col(\"Vegas Correct\").value_counts()\n",
    "# )\n",
    "# # print the counts\n",
    "# print(vegas_correct_counts)\n",
    "# import numpy as np\n",
    "\n",
    "\n",
    "# data = data.with_columns(\n",
    "#         (pl.col(\"Home Odds Close\") < pl.col(\"Away Odds Close\")).cast(pl.Int8).alias(\"Home Odds Favorite\"),\n",
    "#     )\n",
    "# home_odds_favorite = data.select(pl.col(\"Home Odds Favorite\")).to_series().to_numpy()\n",
    "# home_team_win = data.select(pl.col(\"Home Team Win\")).to_series().to_numpy()\n",
    "# # Calculate the accuracy of the Home Odds Favorite prediction\n",
    "# correct_prediction_indices = home_odds_favorite == home_team_win\n",
    "# print(np.count_nonzero(correct_prediction_indices))\n",
    "# print(np.count_nonzero(correct_prediction_indices - 1))\n",
    "# vegas_correct_single_if = (home_odds_favorite == home_team_win).astype(int)\n",
    "# vegas_correct_double_if = data.select(pl.col(\"Vegas Correct\")).to_series().to_numpy().astype(int)\n",
    "# two_vegas_correct = vegas_correct_single_if == data.select(pl.col(\"Vegas Correct\")).to_series().to_numpy().astype(int)\n",
    "# print(\"\\n\\n\\n\")\n",
    "# print(data.row(314))\n",
    "# print(vegas_correct_single_if[314])\n",
    "# print(vegas_correct_double_if[314])\n",
    "# print(np.argwhere(two_vegas_correct == False))\n",
    "# # print(f\"Home Odds Favorite prediction accuracy: {accuracy:.2%}\")"
   ]
  },
  {
   "cell_type": "code",
   "execution_count": 48,
   "id": "d5899038",
   "metadata": {},
   "outputs": [
    {
     "name": "stdout",
     "output_type": "stream",
     "text": [
      "Epoch [0/1000], Loss: 0.6984, Val Loss: 0.6444\n",
      "Epoch [10/1000], Loss: 0.6463, Val Loss: 0.6238\n",
      "Epoch [20/1000], Loss: 0.6260, Val Loss: 0.6151\n",
      "Epoch [30/1000], Loss: 0.6236, Val Loss: 0.6133\n",
      "Epoch [40/1000], Loss: 0.6273, Val Loss: 0.6143\n",
      "Epoch [50/1000], Loss: 0.6226, Val Loss: 0.6147\n"
     ]
    },
    {
     "data": {
      "image/png": "[encoded data removed]",
      "text/plain": [
       "<Figure size 640x480 with 1 Axes>"
      ]
     },
     "metadata": {},
     "output_type": "display_data"
    },
    {
     "name": "stdout",
     "output_type": "stream",
     "text": [
      "Test Accuracy for Vegas Correct: 0.6571\n",
      "Assuming Vegas Correct Test Accuracy: 0.6571\n"
     ]
    }
   ],
   "source": [
    "from sklearn.model_selection import train_test_split\n",
    "\n",
    "TARGET = \"Vegas Correct\"\n",
    "X = data.drop([TARGET, \"Home Team Win\"]).to_numpy()\n",
    "y = data.select(pl.col(TARGET)).to_numpy()\n",
    "X = torch.tensor(X, dtype=torch.float32)\n",
    "y = torch.tensor(y, dtype=torch.float32)\n",
    "X_train, X_test, y_train, y_test = train_test_split(X, y, test_size=0.3, random_state=42, stratify=y)\n",
    "X_val, X_test, y_val, y_test = train_test_split(X_test, y_test, test_size=0.5, random_state=42, stratify=y_test)\n",
    "X_train = X_train.to(device)\n",
    "X_val = X_val.to(device)\n",
    "X_test = X_test.to(device)\n",
    "y_train = y_train.to(device)\n",
    "y_val = y_val.to(device)\n",
    "y_test = y_test.to(device)\n",
    "model = SportsBettingModel(num_features=X_train.shape[1]).to(device)\n",
    "criterion = nn.BCELoss()\n",
    "optimizer = torch.optim.Adam(model.parameters(), lr=0.001)\n",
    "train_loss, val_loss = train_model(model, epochs=1000)\n",
    "plot_losses(train_loss, val_loss)\n",
    "accuracy = test_model(model, X_test, y_test)\n",
    "print(f\"Test Accuracy for Vegas Correct: {accuracy:.4f}\")\n",
    "\n",
    "assume_vegas_correct = torch.ones_like(y_test, dtype=torch.float32).to(device)\n",
    "accuracy_assume_vegas_correct = (assume_vegas_correct.cpu().numpy().flatten() == y_test.cpu().numpy().flatten()).mean()\n",
    "print(f\"Assuming Vegas Correct Test Accuracy: {accuracy_assume_vegas_correct:.4f}\")"
   ]
  },
  {
   "cell_type": "markdown",
   "id": "2d3e1390",
   "metadata": {},
   "source": [
    "# Not Enough Data\n",
    "It is clear that not much can be gained from a dataset that only contains Vegas predictions, even if we see the trends from open to close of how Vegas adjusts predictions. We should instead look to add additional data concerning the teams or games themselves"
   ]
  }
 ],
 "metadata": {
  "kernelspec": {
   "display_name": ".nfl_betting",
   "language": "python",
   "name": "python3"
  },
  "language_info": {
   "codemirror_mode": {
    "name": "ipython",
    "version": 3
   },
   "file_extension": ".py",
   "mimetype": "text/x-python",
   "name": "python",
   "nbconvert_exporter": "python",
   "pygments_lexer": "ipython3",
   "version": "3.10.18"
  }
 },
 "nbformat": 4,
 "nbformat_minor": 5
}
