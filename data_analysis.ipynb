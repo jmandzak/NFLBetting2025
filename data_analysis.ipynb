{
 "cells": [
  {
   "cell_type": "code",
   "execution_count": 85,
   "id": "9ec19a09",
   "metadata": {},
   "outputs": [],
   "source": [
    "import polars as pl\n",
    "import numpy as np"
   ]
  },
  {
   "cell_type": "code",
   "execution_count": 86,
   "id": "a4c9b685",
   "metadata": {},
   "outputs": [
    {
     "data": {
      "text/html": [
       "<div><style>\n",
       ".dataframe > thead > tr,\n",
       ".dataframe > tbody > tr {\n",
       "  text-align: right;\n",
       "  white-space: pre-wrap;\n",
       "}\n",
       "</style>\n",
       "<small>shape: (5, 45)</small><table border=\"1\" class=\"dataframe\"><thead><tr><th>Date</th><th>Home Team</th><th>Away Team</th><th>Home Score</th><th>Away Score</th><th>Overtime?</th><th>Playoff Game?</th><th>Neutral Venue?</th><th>Home Odds Open</th><th>Home Odds Min</th><th>Home Odds Max</th><th>Home Odds Close</th><th>Away Odds Open</th><th>Away Odds Min</th><th>Away Odds Max</th><th>Away Odds Close</th><th>Home Line Open</th><th>Home Line Min</th><th>Home Line Max</th><th>Home Line Close</th><th>Away Line Open</th><th>Away Line Min</th><th>Away Line Max</th><th>Away Line Close</th><th>Home Line Odds Open</th><th>Home Line Odds Min</th><th>Home Line Odds Max</th><th>Home Line Odds Close</th><th>Away Line Odds Open</th><th>Away Line Odds Min</th><th>Away Line Odds Max</th><th>Away Line Odds Close</th><th>Total Score Open</th><th>Total Score Min</th><th>Total Score Max</th><th>Total Score Close</th><th>Total Score Over Open</th><th>Total Score Over Min</th><th>Total Score Over Max</th><th>Total Score Over Close</th><th>Total Score Under Open</th><th>Total Score Under Min</th><th>Total Score Under Max</th><th>Total Score Under Close</th><th>Notes</th></tr><tr><td>str</td><td>str</td><td>str</td><td>i64</td><td>i64</td><td>str</td><td>str</td><td>str</td><td>f64</td><td>f64</td><td>f64</td><td>f64</td><td>f64</td><td>f64</td><td>f64</td><td>f64</td><td>f64</td><td>f64</td><td>f64</td><td>f64</td><td>f64</td><td>f64</td><td>f64</td><td>f64</td><td>f64</td><td>f64</td><td>f64</td><td>f64</td><td>f64</td><td>f64</td><td>f64</td><td>f64</td><td>f64</td><td>f64</td><td>f64</td><td>f64</td><td>f64</td><td>f64</td><td>f64</td><td>f64</td><td>f64</td><td>f64</td><td>f64</td><td>f64</td><td>str</td></tr></thead><tbody><tr><td>&quot;2025-02-09&quot;</td><td>&quot;Philadelphia Eagles&quot;</td><td>&quot;Kansas City Chiefs&quot;</td><td>40</td><td>22</td><td>null</td><td>&quot;Y&quot;</td><td>&quot;Y&quot;</td><td>2.1</td><td>2.0</td><td>2.15</td><td>2.0</td><td>1.77</td><td>1.73</td><td>1.83</td><td>1.83</td><td>2.0</td><td>1.0</td><td>2.0</td><td>1.0</td><td>-2.0</td><td>-2.0</td><td>-1.0</td><td>-1.0</td><td>1.91</td><td>1.87</td><td>1.91</td><td>1.91</td><td>1.91</td><td>1.91</td><td>1.91</td><td>1.91</td><td>49.5</td><td>48.5</td><td>49.5</td><td>48.5</td><td>1.91</td><td>1.87</td><td>1.91</td><td>1.91</td><td>1.91</td><td>1.87</td><td>1.91</td><td>1.91</td><td>&quot;Played at Caesars Superdome in…</td></tr><tr><td>&quot;2025-01-26&quot;</td><td>&quot;Kansas City Chiefs&quot;</td><td>&quot;Buffalo Bills&quot;</td><td>32</td><td>29</td><td>null</td><td>&quot;Y&quot;</td><td>null</td><td>1.8</td><td>1.73</td><td>1.87</td><td>1.87</td><td>2.05</td><td>1.95</td><td>2.1</td><td>1.95</td><td>-1.5</td><td>-2.0</td><td>-1.0</td><td>-1.0</td><td>1.5</td><td>1.0</td><td>2.0</td><td>1.0</td><td>1.91</td><td>1.87</td><td>1.91</td><td>1.91</td><td>1.91</td><td>1.91</td><td>1.91</td><td>1.91</td><td>48.5</td><td>47.5</td><td>49.5</td><td>49.5</td><td>1.91</td><td>1.91</td><td>1.91</td><td>1.91</td><td>1.91</td><td>1.91</td><td>1.91</td><td>1.91</td><td>null</td></tr><tr><td>&quot;2025-01-26&quot;</td><td>&quot;Philadelphia Eagles&quot;</td><td>&quot;Washington Commanders&quot;</td><td>55</td><td>23</td><td>null</td><td>&quot;Y&quot;</td><td>null</td><td>1.4</td><td>1.31</td><td>1.45</td><td>1.34</td><td>3.05</td><td>2.8</td><td>3.4</td><td>3.35</td><td>-5.5</td><td>-6.0</td><td>-4.5</td><td>-6.0</td><td>5.5</td><td>4.5</td><td>6.0</td><td>6.0</td><td>1.91</td><td>1.87</td><td>1.91</td><td>1.91</td><td>1.91</td><td>1.91</td><td>1.91</td><td>1.91</td><td>48.0</td><td>46.5</td><td>48.0</td><td>47.0</td><td>1.91</td><td>1.91</td><td>1.91</td><td>1.91</td><td>1.91</td><td>1.91</td><td>1.91</td><td>1.91</td><td>null</td></tr><tr><td>&quot;2025-01-19&quot;</td><td>&quot;Buffalo Bills&quot;</td><td>&quot;Baltimore Ravens&quot;</td><td>27</td><td>25</td><td>null</td><td>&quot;Y&quot;</td><td>null</td><td>1.87</td><td>1.83</td><td>2.05</td><td>2.05</td><td>1.95</td><td>1.8</td><td>1.95</td><td>1.8</td><td>-1.0</td><td>-1.0</td><td>1.5</td><td>1.5</td><td>1.0</td><td>-1.5</td><td>1.0</td><td>-1.5</td><td>1.91</td><td>1.91</td><td>1.91</td><td>1.91</td><td>1.91</td><td>1.91</td><td>1.91</td><td>1.91</td><td>51.5</td><td>51.5</td><td>52.0</td><td>52.0</td><td>1.91</td><td>1.87</td><td>1.91</td><td>1.91</td><td>1.91</td><td>1.87</td><td>1.91</td><td>1.91</td><td>null</td></tr><tr><td>&quot;2025-01-19&quot;</td><td>&quot;Philadelphia Eagles&quot;</td><td>&quot;Los Angeles Rams&quot;</td><td>28</td><td>22</td><td>null</td><td>&quot;Y&quot;</td><td>null</td><td>1.36</td><td>1.29</td><td>1.38</td><td>1.29</td><td>3.25</td><td>3.1</td><td>3.7</td><td>3.7</td><td>-6.0</td><td>-7.0</td><td>-5.5</td><td>-7.0</td><td>6.0</td><td>5.5</td><td>7.0</td><td>7.0</td><td>2.0</td><td>1.91</td><td>1.87</td><td>1.91</td><td>1.83</td><td>1.95</td><td>1.91</td><td>1.91</td><td>43.5</td><td>42.0</td><td>44.0</td><td>43.5</td><td>1.91</td><td>1.87</td><td>1.91</td><td>1.91</td><td>1.91</td><td>1.87</td><td>1.91</td><td>1.91</td><td>null</td></tr></tbody></table></div>"
      ],
      "text/plain": [
       "shape: (5, 45)\n",
       "┌─────────────┬────────────┬────────────┬───────┬───┬────────────┬────────────┬───────┬────────────┐\n",
       "│ Date        ┆ Home Team  ┆ Away Team  ┆ Home  ┆ … ┆ Total      ┆ Total      ┆ Total ┆ Notes      │\n",
       "│ ---         ┆ ---        ┆ ---        ┆ Score ┆   ┆ Score      ┆ Score      ┆ Score ┆ ---        │\n",
       "│ str         ┆ str        ┆ str        ┆ ---   ┆   ┆ Under Min  ┆ Under Max  ┆ Under ┆ str        │\n",
       "│             ┆            ┆            ┆ i64   ┆   ┆ ---        ┆ ---        ┆ Close ┆            │\n",
       "│             ┆            ┆            ┆       ┆   ┆ f64        ┆ f64        ┆ ---   ┆            │\n",
       "│             ┆            ┆            ┆       ┆   ┆            ┆            ┆ f64   ┆            │\n",
       "╞═════════════╪════════════╪════════════╪═══════╪═══╪════════════╪════════════╪═══════╪════════════╡\n",
       "│ 2025-02-09  ┆ Philadelph ┆ Kansas     ┆ 40    ┆ … ┆ 1.87       ┆ 1.91       ┆ 1.91  ┆ Played at  │\n",
       "│             ┆ ia Eagles  ┆ City       ┆       ┆   ┆            ┆            ┆       ┆ Caesars    │\n",
       "│             ┆            ┆ Chiefs     ┆       ┆   ┆            ┆            ┆       ┆ Superdome  │\n",
       "│             ┆            ┆            ┆       ┆   ┆            ┆            ┆       ┆ in…        │\n",
       "│ 2025-01-26  ┆ Kansas     ┆ Buffalo    ┆ 32    ┆ … ┆ 1.91       ┆ 1.91       ┆ 1.91  ┆ null       │\n",
       "│             ┆ City       ┆ Bills      ┆       ┆   ┆            ┆            ┆       ┆            │\n",
       "│             ┆ Chiefs     ┆            ┆       ┆   ┆            ┆            ┆       ┆            │\n",
       "│ 2025-01-26  ┆ Philadelph ┆ Washington ┆ 55    ┆ … ┆ 1.91       ┆ 1.91       ┆ 1.91  ┆ null       │\n",
       "│             ┆ ia Eagles  ┆ Commanders ┆       ┆   ┆            ┆            ┆       ┆            │\n",
       "│ 2025-01-19  ┆ Buffalo    ┆ Baltimore  ┆ 27    ┆ … ┆ 1.87       ┆ 1.91       ┆ 1.91  ┆ null       │\n",
       "│             ┆ Bills      ┆ Ravens     ┆       ┆   ┆            ┆            ┆       ┆            │\n",
       "│ 2025-01-19  ┆ Philadelph ┆ Los        ┆ 28    ┆ … ┆ 1.87       ┆ 1.91       ┆ 1.91  ┆ null       │\n",
       "│             ┆ ia Eagles  ┆ Angeles    ┆       ┆   ┆            ┆            ┆       ┆            │\n",
       "│             ┆            ┆ Rams       ┆       ┆   ┆            ┆            ┆       ┆            │\n",
       "└─────────────┴────────────┴────────────┴───────┴───┴────────────┴────────────┴───────┴────────────┘"
      ]
     },
     "execution_count": 86,
     "metadata": {},
     "output_type": "execute_result"
    }
   ],
   "source": [
    "data = pl.read_csv(\"data/aus_sports_betting.csv\")\n",
    "data.head(5)"
   ]
  },
  {
   "cell_type": "markdown",
   "id": "580a661e",
   "metadata": {},
   "source": [
    "Let's clean up the data a bit, and add some important columns"
   ]
  },
  {
   "cell_type": "code",
   "execution_count": 87,
   "id": "806fdb0c",
   "metadata": {},
   "outputs": [
    {
     "data": {
      "text/html": [
       "<div><style>\n",
       ".dataframe > thead > tr,\n",
       ".dataframe > tbody > tr {\n",
       "  text-align: right;\n",
       "  white-space: pre-wrap;\n",
       "}\n",
       "</style>\n",
       "<small>shape: (3_010, 44)</small><table border=\"1\" class=\"dataframe\"><thead><tr><th>Home Team</th><th>Away Team</th><th>Playoff Game?</th><th>Neutral Venue?</th><th>Home Odds Open</th><th>Home Odds Min</th><th>Home Odds Max</th><th>Home Odds Close</th><th>Away Odds Open</th><th>Away Odds Min</th><th>Away Odds Max</th><th>Away Odds Close</th><th>Home Line Open</th><th>Home Line Min</th><th>Home Line Max</th><th>Home Line Close</th><th>Away Line Open</th><th>Away Line Min</th><th>Away Line Max</th><th>Away Line Close</th><th>Home Line Odds Open</th><th>Home Line Odds Min</th><th>Home Line Odds Max</th><th>Home Line Odds Close</th><th>Away Line Odds Open</th><th>Away Line Odds Min</th><th>Away Line Odds Max</th><th>Away Line Odds Close</th><th>Total Score Open</th><th>Total Score Min</th><th>Total Score Max</th><th>Total Score Close</th><th>Total Score Over Open</th><th>Total Score Over Min</th><th>Total Score Over Max</th><th>Total Score Over Close</th><th>Total Score Under Open</th><th>Total Score Under Min</th><th>Total Score Under Max</th><th>Total Score Under Close</th><th>Home Team Win</th><th>Over Hit</th><th>Home Team Cover</th><th>Away Team Cover</th></tr><tr><td>u8</td><td>u8</td><td>i8</td><td>i8</td><td>f64</td><td>f64</td><td>f64</td><td>f64</td><td>f64</td><td>f64</td><td>f64</td><td>f64</td><td>f64</td><td>f64</td><td>f64</td><td>f64</td><td>f64</td><td>f64</td><td>f64</td><td>f64</td><td>f64</td><td>f64</td><td>f64</td><td>f64</td><td>f64</td><td>f64</td><td>f64</td><td>f64</td><td>f64</td><td>f64</td><td>f64</td><td>f64</td><td>f64</td><td>f64</td><td>f64</td><td>f64</td><td>f64</td><td>f64</td><td>f64</td><td>f64</td><td>i8</td><td>i8</td><td>i8</td><td>i8</td></tr></thead><tbody><tr><td>8</td><td>28</td><td>1</td><td>1</td><td>2.1</td><td>2.0</td><td>2.15</td><td>2.0</td><td>1.77</td><td>1.73</td><td>1.83</td><td>1.83</td><td>2.0</td><td>1.0</td><td>2.0</td><td>1.0</td><td>-2.0</td><td>-2.0</td><td>-1.0</td><td>-1.0</td><td>1.91</td><td>1.87</td><td>1.91</td><td>1.91</td><td>1.91</td><td>1.91</td><td>1.91</td><td>1.91</td><td>49.5</td><td>48.5</td><td>49.5</td><td>48.5</td><td>1.91</td><td>1.87</td><td>1.91</td><td>1.91</td><td>1.91</td><td>1.87</td><td>1.91</td><td>1.91</td><td>1</td><td>1</td><td>1</td><td>0</td></tr><tr><td>28</td><td>20</td><td>1</td><td>0</td><td>1.8</td><td>1.73</td><td>1.87</td><td>1.87</td><td>2.05</td><td>1.95</td><td>2.1</td><td>1.95</td><td>-1.5</td><td>-2.0</td><td>-1.0</td><td>-1.0</td><td>1.5</td><td>1.0</td><td>2.0</td><td>1.0</td><td>1.91</td><td>1.87</td><td>1.91</td><td>1.91</td><td>1.91</td><td>1.91</td><td>1.91</td><td>1.91</td><td>48.5</td><td>47.5</td><td>49.5</td><td>49.5</td><td>1.91</td><td>1.91</td><td>1.91</td><td>1.91</td><td>1.91</td><td>1.91</td><td>1.91</td><td>1.91</td><td>1</td><td>1</td><td>1</td><td>0</td></tr><tr><td>8</td><td>30</td><td>1</td><td>0</td><td>1.4</td><td>1.31</td><td>1.45</td><td>1.34</td><td>3.05</td><td>2.8</td><td>3.4</td><td>3.35</td><td>-5.5</td><td>-6.0</td><td>-4.5</td><td>-6.0</td><td>5.5</td><td>4.5</td><td>6.0</td><td>6.0</td><td>1.91</td><td>1.87</td><td>1.91</td><td>1.91</td><td>1.91</td><td>1.91</td><td>1.91</td><td>1.91</td><td>48.0</td><td>46.5</td><td>48.0</td><td>47.0</td><td>1.91</td><td>1.91</td><td>1.91</td><td>1.91</td><td>1.91</td><td>1.91</td><td>1.91</td><td>1.91</td><td>1</td><td>1</td><td>1</td><td>0</td></tr><tr><td>20</td><td>32</td><td>1</td><td>0</td><td>1.87</td><td>1.83</td><td>2.05</td><td>2.05</td><td>1.95</td><td>1.8</td><td>1.95</td><td>1.8</td><td>-1.0</td><td>-1.0</td><td>1.5</td><td>1.5</td><td>1.0</td><td>-1.5</td><td>1.0</td><td>-1.5</td><td>1.91</td><td>1.91</td><td>1.91</td><td>1.91</td><td>1.91</td><td>1.91</td><td>1.91</td><td>1.91</td><td>51.5</td><td>51.5</td><td>52.0</td><td>52.0</td><td>1.91</td><td>1.87</td><td>1.91</td><td>1.91</td><td>1.91</td><td>1.87</td><td>1.91</td><td>1.91</td><td>1</td><td>0</td><td>1</td><td>0</td></tr><tr><td>8</td><td>24</td><td>1</td><td>0</td><td>1.36</td><td>1.29</td><td>1.38</td><td>1.29</td><td>3.25</td><td>3.1</td><td>3.7</td><td>3.7</td><td>-6.0</td><td>-7.0</td><td>-5.5</td><td>-7.0</td><td>6.0</td><td>5.5</td><td>7.0</td><td>7.0</td><td>2.0</td><td>1.91</td><td>1.87</td><td>1.91</td><td>1.83</td><td>1.95</td><td>1.91</td><td>1.91</td><td>43.5</td><td>42.0</td><td>44.0</td><td>43.5</td><td>1.91</td><td>1.87</td><td>1.91</td><td>1.91</td><td>1.91</td><td>1.87</td><td>1.91</td><td>1.91</td><td>1</td><td>1</td><td>0</td><td>1</td></tr><tr><td>&hellip;</td><td>&hellip;</td><td>&hellip;</td><td>&hellip;</td><td>&hellip;</td><td>&hellip;</td><td>&hellip;</td><td>&hellip;</td><td>&hellip;</td><td>&hellip;</td><td>&hellip;</td><td>&hellip;</td><td>&hellip;</td><td>&hellip;</td><td>&hellip;</td><td>&hellip;</td><td>&hellip;</td><td>&hellip;</td><td>&hellip;</td><td>&hellip;</td><td>&hellip;</td><td>&hellip;</td><td>&hellip;</td><td>&hellip;</td><td>&hellip;</td><td>&hellip;</td><td>&hellip;</td><td>&hellip;</td><td>&hellip;</td><td>&hellip;</td><td>&hellip;</td><td>&hellip;</td><td>&hellip;</td><td>&hellip;</td><td>&hellip;</td><td>&hellip;</td><td>&hellip;</td><td>&hellip;</td><td>&hellip;</td><td>&hellip;</td><td>&hellip;</td><td>&hellip;</td><td>&hellip;</td><td>&hellip;</td></tr><tr><td>33</td><td>3</td><td>0</td><td>0</td><td>1.43</td><td>1.34</td><td>1.43</td><td>1.36</td><td>3.1</td><td>3.05</td><td>3.56</td><td>3.46</td><td>-5.0</td><td>-6.5</td><td>-5.0</td><td>-6.5</td><td>5.0</td><td>5.0</td><td>6.5</td><td>6.5</td><td>1.95</td><td>1.91</td><td>1.97</td><td>1.93</td><td>1.95</td><td>1.93</td><td>2.0</td><td>1.98</td><td>39.5</td><td>39.5</td><td>41.0</td><td>41.0</td><td>1.92</td><td>1.92</td><td>1.98</td><td>1.95</td><td>1.99</td><td>1.99</td><td>2.0</td><td>1.95</td><td>1</td><td>0</td><td>0</td><td>1</td></tr><tr><td>8</td><td>23</td><td>0</td><td>0</td><td>1.2</td><td>1.18</td><td>1.21</td><td>1.19</td><td>5.23</td><td>5.08</td><td>5.54</td><td>5.35</td><td>-10.0</td><td>-10.5</td><td>-10.0</td><td>-10.0</td><td>10.0</td><td>10.0</td><td>10.5</td><td>10.0</td><td>1.91</td><td>1.93</td><td>2.02</td><td>2.02</td><td>2.0</td><td>1.88</td><td>1.98</td><td>1.88</td><td>53.0</td><td>48.5</td><td>53.0</td><td>49.0</td><td>1.95</td><td>1.91</td><td>1.99</td><td>1.91</td><td>1.95</td><td>2.0</td><td>1.95</td><td>2.0</td><td>1</td><td>1</td><td>1</td><td>0</td></tr><tr><td>25</td><td>18</td><td>0</td><td>0</td><td>1.37</td><td>1.32</td><td>1.42</td><td>1.41</td><td>3.39</td><td>3.14</td><td>3.73</td><td>3.16</td><td>-6.0</td><td>-7.0</td><td>-5.5</td><td>-5.5</td><td>6.0</td><td>5.5</td><td>7.0</td><td>5.5</td><td>1.92</td><td>1.97</td><td>1.95</td><td>1.93</td><td>1.99</td><td>1.95</td><td>1.93</td><td>1.97</td><td>40.0</td><td>40.0</td><td>41.5</td><td>41.5</td><td>1.85</td><td>1.85</td><td>1.97</td><td>1.94</td><td>2.06</td><td>2.06</td><td>2.0</td><td>1.96</td><td>1</td><td>1</td><td>0</td><td>1</td></tr><tr><td>21</td><td>7</td><td>0</td><td>0</td><td>1.5</td><td>1.5</td><td>1.73</td><td>1.65</td><td>2.81</td><td>2.24</td><td>2.81</td><td>2.4</td><td>-4.0</td><td>-4.0</td><td>-2.5</td><td>-3.0</td><td>4.0</td><td>2.5</td><td>4.0</td><td>3.0</td><td>1.95</td><td>1.95</td><td>1.88</td><td>2.02</td><td>1.95</td><td>2.02</td><td>1.95</td><td>1.88</td><td>44.0</td><td>42.5</td><td>44.0</td><td>43.5</td><td>1.95</td><td>1.88</td><td>1.95</td><td>1.88</td><td>1.95</td><td>1.98</td><td>1.95</td><td>2.03</td><td>0</td><td>0</td><td>0</td><td>1</td></tr><tr><td>5</td><td>12</td><td>0</td><td>0</td><td>1.45</td><td>1.38</td><td>1.47</td><td>1.43</td><td>2.99</td><td>2.91</td><td>3.32</td><td>3.05</td><td>-5.0</td><td>-6.0</td><td>-4.5</td><td>-4.5</td><td>5.0</td><td>4.5</td><td>6.0</td><td>4.5</td><td>1.97</td><td>1.93</td><td>2.0</td><td>1.93</td><td>1.93</td><td>1.91</td><td>1.98</td><td>1.98</td><td>46.0</td><td>46.0</td><td>47.0</td><td>46.5</td><td>1.95</td><td>1.83</td><td>2.0</td><td>1.98</td><td>1.95</td><td>1.95</td><td>2.0</td><td>1.93</td><td>1</td><td>1</td><td>1</td><td>0</td></tr></tbody></table></div>"
      ],
      "text/plain": [
       "shape: (3_010, 44)\n",
       "┌───────────┬───────────┬───────────┬───────────┬───┬───────────┬──────────┬───────────┬───────────┐\n",
       "│ Home Team ┆ Away Team ┆ Playoff   ┆ Neutral   ┆ … ┆ Home Team ┆ Over Hit ┆ Home Team ┆ Away Team │\n",
       "│ ---       ┆ ---       ┆ Game?     ┆ Venue?    ┆   ┆ Win       ┆ ---      ┆ Cover     ┆ Cover     │\n",
       "│ u8        ┆ u8        ┆ ---       ┆ ---       ┆   ┆ ---       ┆ i8       ┆ ---       ┆ ---       │\n",
       "│           ┆           ┆ i8        ┆ i8        ┆   ┆ i8        ┆          ┆ i8        ┆ i8        │\n",
       "╞═══════════╪═══════════╪═══════════╪═══════════╪═══╪═══════════╪══════════╪═══════════╪═══════════╡\n",
       "│ 8         ┆ 28        ┆ 1         ┆ 1         ┆ … ┆ 1         ┆ 1        ┆ 1         ┆ 0         │\n",
       "│ 28        ┆ 20        ┆ 1         ┆ 0         ┆ … ┆ 1         ┆ 1        ┆ 1         ┆ 0         │\n",
       "│ 8         ┆ 30        ┆ 1         ┆ 0         ┆ … ┆ 1         ┆ 1        ┆ 1         ┆ 0         │\n",
       "│ 20        ┆ 32        ┆ 1         ┆ 0         ┆ … ┆ 1         ┆ 0        ┆ 1         ┆ 0         │\n",
       "│ 8         ┆ 24        ┆ 1         ┆ 0         ┆ … ┆ 1         ┆ 1        ┆ 0         ┆ 1         │\n",
       "│ …         ┆ …         ┆ …         ┆ …         ┆ … ┆ …         ┆ …        ┆ …         ┆ …         │\n",
       "│ 33        ┆ 3         ┆ 0         ┆ 0         ┆ … ┆ 1         ┆ 0        ┆ 0         ┆ 1         │\n",
       "│ 8         ┆ 23        ┆ 0         ┆ 0         ┆ … ┆ 1         ┆ 1        ┆ 1         ┆ 0         │\n",
       "│ 25        ┆ 18        ┆ 0         ┆ 0         ┆ … ┆ 1         ┆ 1        ┆ 0         ┆ 1         │\n",
       "│ 21        ┆ 7         ┆ 0         ┆ 0         ┆ … ┆ 0         ┆ 0        ┆ 0         ┆ 1         │\n",
       "│ 5         ┆ 12        ┆ 0         ┆ 0         ┆ … ┆ 1         ┆ 1        ┆ 1         ┆ 0         │\n",
       "└───────────┴───────────┴───────────┴───────────┴───┴───────────┴──────────┴───────────┴───────────┘"
      ]
     },
     "execution_count": 87,
     "metadata": {},
     "output_type": "execute_result"
    }
   ],
   "source": [
    "# Drop unimportant columns\n",
    "# These need to be wrapped in try-catch in case the cell is rerun\n",
    "try:\n",
    "    data = data.drop([\"Date\", \"Notes\"])\n",
    "except pl.exceptions.ColumnNotFoundError:\n",
    "    pass\n",
    "\n",
    "# replace all \"Y\" strings with 1\n",
    "data = data.with_columns([\n",
    "    pl.when(pl.col(col) == \"Y\").then(1).otherwise(pl.col(col)).alias(col)\n",
    "    for col in data.columns if data[col].dtype == pl.Utf8\n",
    "])\n",
    "data = data.with_columns([\n",
    "    pl.col(col).fill_null(0).alias(col) for col in data.columns if data[col].dtype == pl.Utf8\n",
    "])\n",
    "# drop rows with null values, as null values here means missing important data\n",
    "data = data.drop_nulls()\n",
    "\n",
    "# Add a Home Team Win column that is either 1 or 0 based on if Home Score is greater than Away Score\n",
    "data = data.with_columns(\n",
    "    (pl.col(\"Home Score\") > pl.col(\"Away Score\")).cast(pl.Int8).alias(\"Home Team Win\")\n",
    ")\n",
    "# Add a column called Over Hit that is 1 if Home Score + Away Score > Total Score Close\n",
    "data = data.with_columns(\n",
    "    (pl.col(\"Home Score\") + pl.col(\"Away Score\") > pl.col(\"Total Score Close\")).cast(pl.Int8).alias(\"Over Hit\")\n",
    ")\n",
    "# Add a column called Home Team Cover that is 1 if Home Score - Away Score > Home Spread Close\n",
    "data = data.with_columns(\n",
    "    (pl.col(\"Away Score\") - pl.col(\"Home Score\") < pl.col(\"Home Line Close\")).cast(pl.Int8).alias(\"Home Team Cover\")\n",
    ")\n",
    "# Add a column called Away Team Cover that is 1 if Away Score - Home Score > Away Spread Close\n",
    "data = data.with_columns(\n",
    "    (pl.col(\"Home Score\") - pl.col(\"Away Score\") < pl.col(\"Away Line Close\")).cast(pl.Int8).alias(\"Away Team Cover\")\n",
    ")\n",
    "# convert Overtime? Playoff Game? and Neutral Venue? to boolean values\n",
    "data = data.with_columns([\n",
    "    pl.col(col).cast(pl.Int8).alias(col) for col in [\"Overtime?\", \"Playoff Game?\", \"Neutral Venue?\"]\n",
    "])\n",
    "# get all unique values in Home Team and Away Team columns\n",
    "home_teams = data[\"Home Team\"].unique().to_list()\n",
    "away_teams = data[\"Away Team\"].unique().to_list()\n",
    "# Combine the two lists and remove duplicates\n",
    "teams = list(set(home_teams + away_teams))\n",
    "# create a mapping of team names to integers\n",
    "team_mapping = {team: i for i, team in enumerate(teams)}\n",
    "# Map the team names to integers\n",
    "data = data.with_columns([\n",
    "    pl.col(\"Home Team\").replace_strict(team_mapping).cast(pl.UInt8).alias(\"Home Team\"),\n",
    "    pl.col(\"Away Team\").replace_strict(team_mapping).cast(pl.UInt8).alias(\"Away Team\")\n",
    "])\n",
    "\n",
    "# drop things only known after the game, like Home Score, Away Score, and Overtime?\n",
    "data = data.drop([\"Home Score\", \"Away Score\", \"Overtime?\"])\n",
    "\n",
    "data"
   ]
  },
  {
   "cell_type": "code",
   "execution_count": 88,
   "id": "aec31947",
   "metadata": {},
   "outputs": [
    {
     "data": {
      "text/html": [
       "<div><style>\n",
       ".dataframe > thead > tr,\n",
       ".dataframe > tbody > tr {\n",
       "  text-align: right;\n",
       "  white-space: pre-wrap;\n",
       "}\n",
       "</style>\n",
       "<small>shape: (4, 44)</small><table border=\"1\" class=\"dataframe\"><thead><tr><th>Home Team</th><th>Away Team</th><th>Playoff Game?</th><th>Neutral Venue?</th><th>Home Odds Open</th><th>Home Odds Min</th><th>Home Odds Max</th><th>Home Odds Close</th><th>Away Odds Open</th><th>Away Odds Min</th><th>Away Odds Max</th><th>Away Odds Close</th><th>Home Line Open</th><th>Home Line Min</th><th>Home Line Max</th><th>Home Line Close</th><th>Away Line Open</th><th>Away Line Min</th><th>Away Line Max</th><th>Away Line Close</th><th>Home Line Odds Open</th><th>Home Line Odds Min</th><th>Home Line Odds Max</th><th>Home Line Odds Close</th><th>Away Line Odds Open</th><th>Away Line Odds Min</th><th>Away Line Odds Max</th><th>Away Line Odds Close</th><th>Total Score Open</th><th>Total Score Min</th><th>Total Score Max</th><th>Total Score Close</th><th>Total Score Over Open</th><th>Total Score Over Min</th><th>Total Score Over Max</th><th>Total Score Over Close</th><th>Total Score Under Open</th><th>Total Score Under Min</th><th>Total Score Under Max</th><th>Total Score Under Close</th><th>Home Team Win</th><th>Over Hit</th><th>Home Team Cover</th><th>Away Team Cover</th></tr><tr><td>f64</td><td>f64</td><td>f64</td><td>f64</td><td>f64</td><td>f64</td><td>f64</td><td>f64</td><td>f64</td><td>f64</td><td>f64</td><td>f64</td><td>f64</td><td>f64</td><td>f64</td><td>f64</td><td>f64</td><td>f64</td><td>f64</td><td>f64</td><td>f64</td><td>f64</td><td>f64</td><td>f64</td><td>f64</td><td>f64</td><td>f64</td><td>f64</td><td>f64</td><td>f64</td><td>f64</td><td>f64</td><td>f64</td><td>f64</td><td>f64</td><td>f64</td><td>f64</td><td>f64</td><td>f64</td><td>f64</td><td>f64</td><td>f64</td><td>f64</td><td>f64</td></tr></thead><tbody><tr><td>-0.004076</td><td>0.018929</td><td>0.045032</td><td>-0.01662</td><td>-0.305471</td><td>-0.310003</td><td>-0.314634</td><td>-0.318237</td><td>0.31529</td><td>0.324059</td><td>0.318671</td><td>0.321436</td><td>-0.35926</td><td>-0.366416</td><td>-0.369793</td><td>-0.376975</td><td>0.35926</td><td>0.369793</td><td>0.366416</td><td>0.376975</td><td>0.070056</td><td>0.079575</td><td>0.039574</td><td>0.057839</td><td>-0.051828</td><td>-0.026393</td><td>-0.063257</td><td>-0.041318</td><td>-0.035849</td><td>-0.031838</td><td>-0.039408</td><td>-0.032873</td><td>0.014322</td><td>-0.000024</td><td>-0.002242</td><td>0.022912</td><td>0.023432</td><td>0.002227</td><td>0.011287</td><td>0.014622</td><td>1.0</td><td>0.027558</td><td>0.652294</td><td>-0.657245</td></tr><tr><td>-0.039751</td><td>-0.013469</td><td>-0.007999</td><td>-0.01103</td><td>-0.034399</td><td>-0.031131</td><td>-0.029216</td><td>-0.023851</td><td>0.001796</td><td>-0.003164</td><td>0.004017</td><td>0.000584</td><td>-0.023724</td><td>-0.023058</td><td>-0.019825</td><td>-0.020497</td><td>0.023724</td><td>0.019825</td><td>0.023058</td><td>0.020497</td><td>0.01967</td><td>0.003918</td><td>0.000292</td><td>-0.00439</td><td>-0.007488</td><td>0.005944</td><td>0.005913</td><td>0.016241</td><td>-0.02484</td><td>-0.013972</td><td>-0.019727</td><td>-0.012661</td><td>0.007546</td><td>-0.006674</td><td>0.017346</td><td>0.017803</td><td>0.010523</td><td>0.00977</td><td>0.016962</td><td>-0.002964</td><td>0.027558</td><td>1.0</td><td>0.030857</td><td>-0.03493</td></tr><tr><td>-0.000355</td><td>0.015966</td><td>0.012843</td><td>0.014623</td><td>0.010952</td><td>0.016453</td><td>0.009466</td><td>0.013779</td><td>0.014385</td><td>0.016801</td><td>0.010726</td><td>0.014571</td><td>-0.000136</td><td>0.005097</td><td>0.002405</td><td>0.00474</td><td>0.000136</td><td>-0.002405</td><td>-0.005097</td><td>-0.00474</td><td>0.030346</td><td>0.018332</td><td>-0.009096</td><td>0.010145</td><td>-0.026817</td><td>0.009202</td><td>-0.016961</td><td>-0.004896</td><td>-0.044704</td><td>-0.041782</td><td>-0.043272</td><td>-0.036296</td><td>0.000029</td><td>0.008753</td><td>-0.012592</td><td>0.0227</td><td>0.011226</td><td>-0.033254</td><td>0.01042</td><td>-0.008501</td><td>0.652294</td><td>0.030857</td><td>1.0</td><td>-0.941907</td></tr><tr><td>0.001592</td><td>-0.023727</td><td>-0.006583</td><td>-0.006445</td><td>-0.010053</td><td>-0.015388</td><td>-0.010285</td><td>-0.014416</td><td>-0.009113</td><td>-0.010719</td><td>-0.005747</td><td>-0.009001</td><td>-0.003867</td><td>-0.009464</td><td>-0.00459</td><td>-0.008007</td><td>0.003867</td><td>0.00459</td><td>0.009464</td><td>0.008007</td><td>-0.036261</td><td>-0.024237</td><td>-0.001395</td><td>-0.014104</td><td>0.03078</td><td>0.000973</td><td>0.019655</td><td>0.006224</td><td>0.056748</td><td>0.054262</td><td>0.057244</td><td>0.049543</td><td>0.003593</td><td>-0.005274</td><td>0.014731</td><td>-0.018132</td><td>-0.015814</td><td>0.024715</td><td>-0.010736</td><td>0.003949</td><td>-0.657245</td><td>-0.03493</td><td>-0.941907</td><td>1.0</td></tr></tbody></table></div>"
      ],
      "text/plain": [
       "shape: (4, 44)\n",
       "┌───────────┬───────────┬───────────┬───────────┬───┬───────────┬──────────┬───────────┬───────────┐\n",
       "│ Home Team ┆ Away Team ┆ Playoff   ┆ Neutral   ┆ … ┆ Home Team ┆ Over Hit ┆ Home Team ┆ Away Team │\n",
       "│ ---       ┆ ---       ┆ Game?     ┆ Venue?    ┆   ┆ Win       ┆ ---      ┆ Cover     ┆ Cover     │\n",
       "│ f64       ┆ f64       ┆ ---       ┆ ---       ┆   ┆ ---       ┆ f64      ┆ ---       ┆ ---       │\n",
       "│           ┆           ┆ f64       ┆ f64       ┆   ┆ f64       ┆          ┆ f64       ┆ f64       │\n",
       "╞═══════════╪═══════════╪═══════════╪═══════════╪═══╪═══════════╪══════════╪═══════════╪═══════════╡\n",
       "│ -0.004076 ┆ 0.018929  ┆ 0.045032  ┆ -0.01662  ┆ … ┆ 1.0       ┆ 0.027558 ┆ 0.652294  ┆ -0.657245 │\n",
       "│ -0.039751 ┆ -0.013469 ┆ -0.007999 ┆ -0.01103  ┆ … ┆ 0.027558  ┆ 1.0      ┆ 0.030857  ┆ -0.03493  │\n",
       "│ -0.000355 ┆ 0.015966  ┆ 0.012843  ┆ 0.014623  ┆ … ┆ 0.652294  ┆ 0.030857 ┆ 1.0       ┆ -0.941907 │\n",
       "│ 0.001592  ┆ -0.023727 ┆ -0.006583 ┆ -0.006445 ┆ … ┆ -0.657245 ┆ -0.03493 ┆ -0.941907 ┆ 1.0       │\n",
       "└───────────┴───────────┴───────────┴───────────┴───┴───────────┴──────────┴───────────┴───────────┘"
      ]
     },
     "execution_count": 88,
     "metadata": {},
     "output_type": "execute_result"
    }
   ],
   "source": [
    "correlation = data.corr()\n",
    "# remove all but the last four rows (correlation with the target columns Home Team Win, Over Hit, Home Team Cover, Away Team Cover)\n",
    "correlation = correlation.tail(4)\n",
    "correlation"
   ]
  },
  {
   "cell_type": "code",
   "execution_count": 89,
   "id": "cc0dfb89",
   "metadata": {},
   "outputs": [
    {
     "name": "stdout",
     "output_type": "stream",
     "text": [
      "Top 5 Home Team Win Features:\n",
      "['Away Line Max' 'Away Line Min' 'Home Line Max' 'Home Line Close'\n",
      " 'Away Line Close']\n",
      "Top 5 Over Hit Features:\n",
      "['Total Score Open' 'Home Odds Max' 'Home Odds Min' 'Home Odds Open'\n",
      " 'Home Team']\n",
      "Top 5 Home Team Cover Features:\n",
      "['Total Score Under Min' 'Total Score Close' 'Total Score Min'\n",
      " 'Total Score Max' 'Total Score Open']\n",
      "Top 5 Away Team Cover Features:\n",
      "['Home Line Odds Open' 'Total Score Close' 'Total Score Min'\n",
      " 'Total Score Open' 'Total Score Max']\n"
     ]
    }
   ],
   "source": [
    "feature_columns = np.array(correlation.columns[:-4])  # Exclude the last two columns which are the targets\n",
    "home_team_win_correlation = correlation.row(0)[:-4]\n",
    "over_hit_correlation = correlation.row(1)[:-4]\n",
    "home_team_cover_correlation = correlation.row(2)[:-4]\n",
    "away_team_cover_correlation = correlation.row(3)[:-4]\n",
    "\n",
    "THRESHOLD = 0.03\n",
    "# Important features for Home Team Win\n",
    "# get top 5 indices for Home Team Win correlation\n",
    "top_home_team_win_indices = np.argsort(np.abs(home_team_win_correlation))[-5:]\n",
    "# Important features for Over Hit\n",
    "top_over_hit_indices = np.argsort(np.abs(over_hit_correlation))[-5:]\n",
    "# Important features for Home Team Cover\n",
    "top_home_team_cover_indices = np.argsort(np.abs(home_team_cover_correlation))[-5:]\n",
    "# Important features for Away Team Cover\n",
    "top_away_team_cover_indices = np.argsort(np.abs(away_team_cover_correlation))[-5:]\n",
    "\n",
    "print(\"Top 5 Home Team Win Features:\")\n",
    "print(feature_columns[top_home_team_win_indices].flatten())\n",
    "\n",
    "print(\"Top 5 Over Hit Features:\")\n",
    "print(feature_columns[top_over_hit_indices].flatten())\n",
    "\n",
    "print(\"Top 5 Home Team Cover Features:\")\n",
    "print(feature_columns[top_home_team_cover_indices].flatten())\n",
    "\n",
    "print(\"Top 5 Away Team Cover Features:\")\n",
    "print(feature_columns[top_away_team_cover_indices].flatten())\n"
   ]
  }
 ],
 "metadata": {
  "kernelspec": {
   "display_name": ".nfl_betting",
   "language": "python",
   "name": "python3"
  },
  "language_info": {
   "codemirror_mode": {
    "name": "ipython",
    "version": 3
   },
   "file_extension": ".py",
   "mimetype": "text/x-python",
   "name": "python",
   "nbconvert_exporter": "python",
   "pygments_lexer": "ipython3",
   "version": "3.8.10"
  }
 },
 "nbformat": 4,
 "nbformat_minor": 5
}
